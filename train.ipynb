{
 "cells": [
  {
   "cell_type": "code",
   "execution_count": 5,
   "id": "initial_id",
   "metadata": {
    "collapsed": true,
    "ExecuteTime": {
     "end_time": "2024-03-03T16:19:35.081107467Z",
     "start_time": "2024-03-03T16:19:35.078141787Z"
    }
   },
   "outputs": [],
   "source": [
    "import tensorflow as tf\n",
    "import os \n",
    "import pandas as pd\n"
   ]
  },
  {
   "cell_type": "code",
   "outputs": [],
   "source": [
    "import os\n",
    "import json\n",
    "\n",
    "os.environ[\"TF_CONFIG\"] = json.dumps({\n",
    "    \"cluster\": {\n",
    "        \"worker\": [\"192.168.100.17:24202\", \"192.168.100.31:27720\"]\n",
    "    },\n",
    "    \"task\": {\"type\": \"worker\", \"index\": 0}\n",
    "})"
   ],
   "metadata": {
    "collapsed": false,
    "ExecuteTime": {
     "end_time": "2024-03-03T13:32:33.382950976Z",
     "start_time": "2024-03-03T13:32:33.380811867Z"
    }
   },
   "id": "6f95e40ae80c5abd",
   "execution_count": 7
  },
  {
   "cell_type": "code",
   "outputs": [],
   "source": [
    "class load():\n",
    "    def __init__(self, path):\n",
    "        with tf.device('/GPU:0'):\n",
    "            self.df = pd.read_csv(os.path.join(path, '_annotations.csv'))\n",
    "            self.df = self.df.drop_duplicates(subset='filename').reset_index(drop=True)\n",
    "            self.classes = self.df['class'].unique()\n",
    "            self.Y_df = pd.get_dummies(self.df['class'])\n",
    "            self.Y_df = self.Y_df.astype(int)\n",
    "            self.Y_ = self.Y_df.values\n",
    "            self.dataset = self.create_dataset(path, self.df['filename'], self.Y_)\n",
    "\n",
    "    def load_image(self, image_path):\n",
    "        image = tf.io.read_file(image_path)\n",
    "        image = tf.image.decode_jpeg(image, channels=1)\n",
    "        return image\n",
    "\n",
    "    def create_dataset(self, path, image_paths, labels):\n",
    "        image_paths = image_paths.apply(lambda x: os.path.join(path, x))\n",
    "        image_paths = tf.convert_to_tensor(image_paths, dtype=tf.string)\n",
    "        labels = tf.convert_to_tensor(labels, dtype=tf.int32)\n",
    "        image_dataset = tf.data.Dataset.from_tensor_slices(image_paths)\n",
    "        label_dataset = tf.data.Dataset.from_tensor_slices(labels)\n",
    "        image_dataset = image_dataset.map(self.load_image, num_parallel_calls=tf.data.experimental.AUTOTUNE)\n",
    "        dataset = tf.data.Dataset.zip((image_dataset, label_dataset))\n",
    "        dataset = dataset.shuffle(buffer_size=1024).batch(32)\n",
    "        dataset = dataset.prefetch(buffer_size=tf.data.experimental.AUTOTUNE)\n",
    "        return dataset"
   ],
   "metadata": {
    "collapsed": false,
    "ExecuteTime": {
     "end_time": "2024-03-03T16:19:36.323925232Z",
     "start_time": "2024-03-03T16:19:36.321876159Z"
    }
   },
   "id": "168bab0153baf636",
   "execution_count": 6
  },
  {
   "cell_type": "code",
   "outputs": [
    {
     "name": "stdout",
     "output_type": "stream",
     "text": [
      "Epoch 1/10\n",
      "260/260 [==============================] - 360s 1s/step - loss: 1.4871 - accuracy: 0.6709\n",
      "Epoch 2/10\n",
      "260/260 [==============================] - 361s 1s/step - loss: 1.0603 - accuracy: 0.7383\n",
      "Epoch 3/10\n",
      "260/260 [==============================] - 357s 1s/step - loss: 0.9007 - accuracy: 0.7800\n",
      "Epoch 4/10\n",
      "260/260 [==============================] - 354s 1s/step - loss: 0.5161 - accuracy: 0.8080\n",
      "Epoch 5/10\n",
      "260/260 [==============================] - 355s 1s/step - loss: 0.5015 - accuracy: 0.8313\n",
      "Epoch 6/10\n",
      "260/260 [==============================] - 345s 1s/step - loss: 0.4995 - accuracy: 0.8422\n",
      "Epoch 7/10\n",
      "260/260 [==============================] - 345s 1s/step - loss: 0.4923 - accuracy: 0.8649\n",
      "Epoch 8/10\n",
      "260/260 [==============================] - 339s 1s/step - loss: 0.4519 - accuracy: 0.8678\n",
      "Epoch 9/10\n",
      "260/260 [==============================] - 336s 1s/step - loss: 0.4056 - accuracy: 0.868\n",
      "Epoch 10/10\n",
      "260/260 [==============================] - 334s 1s/step - loss: 0.4311 - accuracy: 0.8617\n"
     ]
    }
   ],
   "source": [
    "import tensorflow as tf\n",
    "from tensorflow.keras.applications import MobileNetV2\n",
    "from tensorflow.keras.layers import Dense, GlobalAveragePooling2D\n",
    "from tensorflow.keras.models import Model\n",
    "\n",
    "# Load the MobileNetV2 model with pre-trained weights, excluding the top layers\n",
    "base_model = MobileNetV2(input_shape=(640, 640, 3), include_top=False, weights='imagenet')\n",
    "\n",
    "# Add new layers for our specific classification task\n",
    "x = base_model.output\n",
    "x = GlobalAveragePooling2D()(x)\n",
    "x = Dense(512, activation='relu')(x)\n",
    "predictions = Dense(107, activation='softmax')(x)\n",
    "\n",
    "# Create the final model\n",
    "model = Model(inputs=base_model.input, outputs=predictions)\n",
    "\n",
    "# Compile the model\n",
    "model.compile(optimizer='adam', loss='categorical_crossentropy', metrics=['accuracy'])\n",
    "\n",
    "# Load the datasets\n",
    "train = load('train')\n",
    "validation = load('valid')\n",
    "\n",
    "# Train the model\n",
    "model.fit(train.dataset, epochs=10)"
   ],
   "metadata": {
    "collapsed": false,
    "ExecuteTime": {
     "end_time": "2024-03-03T18:12:56.446504805Z",
     "start_time": "2024-03-03T17:14:46.720644317Z"
    }
   },
   "id": "4ea3724012c765c1",
   "execution_count": 8
  }
 ],
 "metadata": {
  "kernelspec": {
   "display_name": "Python 3",
   "language": "python",
   "name": "python3"
  },
  "language_info": {
   "codemirror_mode": {
    "name": "ipython",
    "version": 2
   },
   "file_extension": ".py",
   "mimetype": "text/x-python",
   "name": "python",
   "nbconvert_exporter": "python",
   "pygments_lexer": "ipython2",
   "version": "2.7.6"
  }
 },
 "nbformat": 4,
 "nbformat_minor": 5
}
